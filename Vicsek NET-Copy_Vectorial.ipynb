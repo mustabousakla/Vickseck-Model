{
 "cells": [
  {
   "cell_type": "code",
   "execution_count": 23,
   "id": "02c53e55",
   "metadata": {},
   "outputs": [
    {
     "name": "stdout",
     "output_type": "stream",
     "text": [
      "fet\n"
     ]
    }
   ],
   "source": [
    "\n",
    "import matplotlib.pyplot as plt\n",
    "import pandas as pd\n",
    "import csv\n",
    "import numpy as np\n",
    "from scipy.optimize import curve_fit\n",
    "from scipy.stats import kurtosis\n",
    "\n",
    "# Autor: Mustapha Bousakla\n",
    "# MODULO PARA SIMULACIONES\n",
    "# Nomenclatura:\n",
    "#   PO: Parámetro de Orden (Order Parameter)\n",
    "#   t: tiempo (time)\n",
    "#   X: variable que evoluciona con el tiempo y tiene como parámetro PO. (variable X[t,PO])\n",
    "\n",
    "def ReadParameters(InFile,N,v0,rho,MidoCada,printing):\n",
    "    with open(InFile) as f_in_names:\n",
    "    \n",
    "        plots=csv.reader(f_in_names,delimiter = ' ')\n",
    "        Naux=int(f_in_names.readline().split()[1])\n",
    "        N.append(Naux)\n",
    "        L=int(f_in_names.readline().split()[1])\n",
    "        v0.append(float(f_in_names.readline().split()[1]))\n",
    "        for i in range(5):\n",
    "            next(plots)\n",
    "        MidoCada.append(int(f_in_names.readline().split()[1]))\n",
    "        rho.append(Naux/L**2)\n",
    "        if printing == True:\n",
    "            print('N = %s' % N)\n",
    "            print('rho = %s' % rho)\n",
    "            print( r'$\\Delta$ t = %s' % MidoCada)\n",
    "    \n",
    "    return \n",
    "# función para leer las tablas .dat\n",
    "\n",
    "\n",
    "def Autocorr(x):\n",
    "    result = np.correlate(x, x, mode='full')\n",
    "    return result[int(result.size/2):]\n",
    "\n",
    "\n",
    "#creamos una rutina que calcula el tiempo de equilibración\n",
    "#distingue si es mayor a un dado límite o no\n",
    "def ExtractTauEq(noise,f_fit,time,ACT,lowerBound):\n",
    "    TauEq=[]\n",
    "    for j in range(len(noise)):\n",
    "        tau_temp=curve_fit(f_fit,time,ACT[j], maxfev = 50000)[0][0]\n",
    "        if tau_temp <= lowerBound:\n",
    "            TauEq.append(lowerBound)\n",
    "        else:\n",
    "            TauEq.append(tau_temp)\n",
    "        \n",
    "    return TauEq\n",
    "\n",
    "\n",
    "\"\"\" La función Graficador \"\"\"\n",
    "# -------------- ACLARACIONES --------------\n",
    "# el parámetro 'grafico' es una lista cuyos elementos\n",
    "# contienen la siguiente información, en el siguiente orden:\n",
    "# grafico[0]=[x,y,yerr,fmt,label]\n",
    "# x: variable indepentiente\n",
    "# y: variable dependiente\n",
    "# yerr: error de variable dependiente\n",
    "# fmt: formato, es de tipo string\n",
    "# label: etiquieta, tipo string\n",
    "#-------------- EJEMPLO -------------\n",
    "#grafico=[[graf1][graf2][graf3]]\n",
    "#graf1=[x,y,yEr,'g-',label]\n",
    "#----------------------------\n",
    "def Graficador(grafico,xlabel,ylabel,title):\n",
    "# =============================================================================\n",
    "#     print(\"grafico=[[graf1][graf2][graf3]]\")\n",
    "#     print(\"graf1=[x,y,yEr,'g-',label]\")\n",
    "# =============================================================================\n",
    "    assert type(grafico[0])==list, 'missing brakets in \"grafico\" '\n",
    "    for item in grafico:\n",
    "        plt.errorbar(\n",
    "                item[0],\n",
    "                item[1],\n",
    "                yerr = item[2],\n",
    "                fmt=item[3],\n",
    "                ecolor='k',\n",
    "                label = item[4] )\n",
    "    \n",
    "    plt.xlabel(xlabel,fontsize = 20)\n",
    "    plt.ylabel(ylabel,fontsize = 20)\n",
    "    plt.title(title)\n",
    "    plt.legend()\n",
    "    plt.show()\n",
    "    return\n",
    "\"\"\" END función Graficador \"\"\"\n",
    "\n",
    "\n",
    "class AnalysisVicsek(object):\n",
    "    \n",
    "    \n",
    "    def __init__(self,runNbr,inFiles,typeAnalysis,parameters):\n",
    "        self.runNbr = runNbr\n",
    "        self.inFiles = inFiles\n",
    "        assert len(inFiles)==3, 'Must privide a 3 length list'\n",
    "        self.typeAnalysis = typeAnalysis\n",
    "        self.parameters = parameters\n",
    "        self.M_Period = parameters[3] #period of messurements\n",
    "#        self.tauEq = 0\n",
    "\n",
    "        return\n",
    "\n",
    "\n",
    "    #from inFiles read Parameters and Variables\n",
    "\n",
    "    def getVariables(self, fileToRead):\n",
    "        with open(fileToRead, 'r') as archivo:\n",
    "            noise=np.asarray(archivo.readline().split()[1::],float)\n",
    "            lines=archivo.readlines()\n",
    "            result=[]\n",
    "            for x in lines:\n",
    "                result.append(x.split( )[0])\n",
    "    \n",
    "            result2=[float(result[i]) for i in range(1,len(result))]\n",
    "            time=np.asarray(result2, float)\n",
    "            lines2=[lines[i] for i in range(1, len(result2)+1)]\n",
    "            X3=[]\n",
    "            for i in range(1,len(noise)+1):\n",
    "                X2=[]\n",
    "                for x in lines2:\n",
    "                    X2.append(x.split( )[i])\n",
    "                X3.append(X2)\n",
    "        \n",
    "            X=np.asarray(X3,float)\n",
    "    \n",
    "        return noise, time, X  \n",
    "   \n",
    "    # Set noise\n",
    "    @property\n",
    "    def vicsekNoise(self):\n",
    "        return self.getVariables(self.inFiles[1])[0]\n",
    "    \n",
    "    def _calc_acorr(self,tEq):\n",
    "        print('tEq is a presumed time of equilibration different than tauEq')\n",
    "        first=int(tEq/self.M_Period)\n",
    "        Acorr=[]\n",
    "        OP=self.get_OrderParam\n",
    "        for k in range(len(self.vicsekNoise)):\n",
    "            # estimate Acorr from an stabilized array\n",
    "            Acorr.append(Autocorr(OP[k][first::]))\n",
    "    \n",
    "        return np.array(Acorr,float)\n",
    "    \n",
    "    @property\n",
    "    def acorrTime(self,t_f=200):\n",
    "        # we save only up to len(OP)/2 because after that we have little\n",
    "        # amount of points to estimate Acorr with few error.\n",
    "#        t_f=250\n",
    "        time=self.getVariables(self.inFiles[0])[1][:t_f]\n",
    "\n",
    "        return np.asarray(time,float)\n",
    "    \n",
    "    @property\n",
    "    def acorr(self):\n",
    "        Acorr = self.getVariables(self.inFiles[0])[2][:,:200]\n",
    "        return np.asarray(Acorr,float)\n",
    "    \n",
    "    \n",
    "    #Now we need to extract the equilibrium time 'tauEq'.\n",
    "    def get_tauEq(self,FittingFunction):\n",
    "        #check dimensions\n",
    "        #check the way the function is defined\n",
    "        print('CAREFUL: FittingFunction must be like F(x,tau,A,y0,**p)')\n",
    "        #falta proteger la variable tauEq\n",
    "        tauEq=ExtractTauEq(\n",
    "                self.vicsekNoise,\n",
    "                FittingFunction,\n",
    "                self.acorrTime,\n",
    "                self.acorr,\n",
    "                self.M_Period\n",
    "                )\n",
    "#        self.tauEq = np.array(tauEq,float)\n",
    "        print(tauEq)\n",
    "        return np.array(tauEq,float)\n",
    "    \n",
    "\n",
    "    #get order parameter time array\n",
    "    @property\n",
    "    def get_OPtime(self):    \n",
    "        return self.getVariables(self.inFiles[1])[1]\n",
    "    #get order parameter array\n",
    "    @property\n",
    "    def get_OrderParam(self):\n",
    "        return self.getVariables(self.inFiles[1])[2]\n",
    "    \n",
    "    \n",
    "    # calculate the mean,var and kurtosis of the variable X from an initial time tauEq\n",
    "    def _calc_X_Stats(self,X,tauEq):   \n",
    "        X_mean=[]\n",
    "        X_var=[]\n",
    "        X_kurt=[]\n",
    "        for k in range(len(self.vicsekNoise)):\n",
    "            aux_t=self.M_Period\n",
    "            tauEq[k]/=aux_t\n",
    "            # tauEq[k]/=self.M_Period\n",
    "            X_mean.append(np.mean(X[k][int(tauEq[k]):]))\n",
    "            X_var.append(np.var(X[k][int(tauEq[k]):]))\n",
    "            X_kurt.append(kurtosis(X[k][int(tauEq[k]):],fisher=True))\n",
    "            # tauEq[k]*=self.M_Period #idk how to avoid de method to change the original value.. so re calc\n",
    "        X_mean=np.asarray(X_mean,float)\n",
    "        X_var=np.asarray(X_var,float)\n",
    "        X_kurt=np.asarray(X_kurt,float)\n",
    "        return X_mean,X_var,X_kurt\n",
    "       \n",
    "    def get_OP_Mean(self,tauEq):\n",
    "        OPMean = self._calc_X_Stats(self.get_OrderParam,tauEq)[0]\n",
    "        return OPMean\n",
    "    \n",
    "    def get_OP_Var(self,tauEq):\n",
    "        OPVar = self._calc_X_Stats(self.get_OrderParam,tauEq)[1]\n",
    "        return OPVar\n",
    "    \n",
    "    \"\"\" CumulanteBinder = CB_A = 1- <Phi^4>/3*<Phi^2>^2\"\"\"\n",
    "    def _calc_X_BinderCumulant(self,tauEq):\n",
    "        BindCum = 1 -self._calc_X_Stats(self.get_OrderParam,tauEq)[2]/3\n",
    "        return BindCum\n",
    "    \n",
    "\n",
    "    def ErrOP(self,tauEq):\n",
    "        errOP=[]\n",
    "        for k in range(len(self.vicsekNoise)):\n",
    "            if tauEq[k]<=self.M_Period:\n",
    "                n=len(self.get_OPtime)\n",
    "                errOP.append(np.sqrt(self.get_OP_Var(tauEq)[k]/(n-1)))\n",
    "            else:\n",
    "                tmax=max(self.get_OPtime) - tauEq[k]\n",
    "                n=2*tauEq[k]/tmax\n",
    "                errOP.append(np.sqrt(n*self.get_OP_Var(tauEq)[k]))\n",
    "    #            errOP = np.sqrt(self.get_OP_Var/(n-1))\n",
    "        \n",
    "        return np.array(errOP,float)\n",
    "\"\"\"END OF CLASS AnalysisVicsek\"\"\"\n",
    "print('fet')"
   ]
  },
  {
   "cell_type": "code",
   "execution_count": 24,
   "id": "a15a9523",
   "metadata": {},
   "outputs": [
    {
     "name": "stdout",
     "output_type": "stream",
     "text": [
      "fets imports\n"
     ]
    }
   ],
   "source": [
    "import sys\n",
    "sys.path.insert(0,'C:/Users/musta')\n",
    "import numpy as np\n",
    "import math\n",
    "import matplotlib.pyplot as plt\n",
    "\n",
    "\n",
    "print('fets imports')"
   ]
  },
  {
   "cell_type": "code",
   "execution_count": 51,
   "id": "b25eea45",
   "metadata": {},
   "outputs": [
    {
     "name": "stdout",
     "output_type": "stream",
     "text": [
      "[['ACorr_VV10_G0p0.dat', 'CrudosVicsekV10_G0p0.dat', 'CrudosVicsekvV10_G0p0.dat'], ['ACorr_VV11_G0p0.dat', 'CrudosVicsekV11_G0p0.dat', 'CrudosVicsekvV11_G0p0.dat'], ['ACorr_VV12_G0p0.dat', 'CrudosVicsekV12_G0p0.dat', 'CrudosVicsekvV12_G0p0.dat'], ['ACorr_VV13_G0p0.dat', 'CrudosVicsekV13_G0p0.dat', 'CrudosVicsekvV13_G0p0.dat'], ['ACorr_VV14_G0p0.dat', 'CrudosVicsekV14_G0p0.dat', 'CrudosVicsekvV14_G0p0.dat']]\n"
     ]
    }
   ],
   "source": [
    "\n",
    "nroFilesV=0\n",
    "\n",
    "\n",
    "VecInFiles=[]\n",
    "InFile=[]\n",
    "\n",
    "G=0\n",
    "decG = math.modf(G)[0]\n",
    "for j in range(10,15):\n",
    "    namearch  = 'Entrada_Parametros_Vicsek'+str(j)+'.dat'\n",
    "    acorrFile='ACorr_VV'+str(j)+'_G'+str(int(G))+'p'+str(int(decG*10))+'.dat'\n",
    "    PhiFile='CrudosVicsekV'+str(j)+'_G'+str(int(G))+'p'+str(int(decG*10))+'.dat'\n",
    "    PhiSqrFile='CrudosVicsekvV'+str(j)+'_G'+str(int(G))+'p'+str(int(decG*10))+'.dat'\n",
    "    VecInFiles.append([acorrFile,PhiFile,PhiSqrFile])\n",
    "    InFile.append(namearch)\n",
    "    nroFilesV+=1\n",
    "    \n",
    "print(VecInFiles)"
   ]
  },
  {
   "cell_type": "code",
   "execution_count": null,
   "id": "a744ccf7",
   "metadata": {},
   "outputs": [],
   "source": []
  },
  {
   "cell_type": "code",
   "execution_count": 52,
   "id": "aa6e2de9",
   "metadata": {},
   "outputs": [
    {
     "name": "stdout",
     "output_type": "stream",
     "text": [
      "fets imports\n"
     ]
    }
   ],
   "source": [
    "import sys\n",
    "sys.path.insert(0,'C:/Users/musta')\n",
    "import numpy as np\n",
    "import math\n",
    "import matplotlib.pyplot as plt\n",
    "\n",
    "\n",
    "print('fets imports')"
   ]
  },
  {
   "cell_type": "code",
   "execution_count": 53,
   "id": "2112ed39",
   "metadata": {},
   "outputs": [
    {
     "name": "stdout",
     "output_type": "stream",
     "text": [
      "N = [225]\n",
      "rho = [1.0]\n",
      "$\\Delta$ t = [100]\n",
      "N = [225, 196]\n",
      "rho = [1.0, 1.0]\n",
      "$\\Delta$ t = [100, 100]\n",
      "N = [225, 196, 144]\n",
      "rho = [1.0, 1.0, 1.0]\n",
      "$\\Delta$ t = [100, 100, 100]\n",
      "N = [225, 196, 144, 100]\n",
      "rho = [1.0, 1.0, 1.0, 1.0]\n",
      "$\\Delta$ t = [100, 100, 100, 100]\n",
      "N = [225, 196, 144, 100, 64]\n",
      "rho = [1.0, 1.0, 1.0, 1.0, 1.0]\n",
      "$\\Delta$ t = [100, 100, 100, 100, 100]\n",
      "[[225, 1.25, 1.0, 100], [196, 1.25, 1.0, 100], [144, 1.25, 1.0, 100], [100, 1.25, 1.0, 100], [64, 1.25, 1.0, 100]]\n"
     ]
    }
   ],
   "source": [
    "N=[]\n",
    "v0=[]\n",
    "rho=[]\n",
    "MidoCada=[]\n",
    "\n",
    "parameters=[]\n",
    "for j in range(nroFilesV):\n",
    "    ReadParameters(InFile[j],N,v0,rho,MidoCada,True)    \n",
    "    parameters.append([N[j],v0[j],rho[j],MidoCada[j]])\n",
    "    \n",
    "print(parameters)"
   ]
  },
  {
   "cell_type": "code",
   "execution_count": 54,
   "id": "c4d62653",
   "metadata": {},
   "outputs": [
    {
     "name": "stdout",
     "output_type": "stream",
     "text": [
      "[['ACorr_VV10_G0p0.dat', 'CrudosVicsekV10_G0p0.dat', 'CrudosVicsekvV10_G0p0.dat'], ['ACorr_VV11_G0p0.dat', 'CrudosVicsekV11_G0p0.dat', 'CrudosVicsekvV11_G0p0.dat'], ['ACorr_VV12_G0p0.dat', 'CrudosVicsekV12_G0p0.dat', 'CrudosVicsekvV12_G0p0.dat'], ['ACorr_VV13_G0p0.dat', 'CrudosVicsekV13_G0p0.dat', 'CrudosVicsekvV13_G0p0.dat'], ['ACorr_VV14_G0p0.dat', 'CrudosVicsekV14_G0p0.dat', 'CrudosVicsekvV14_G0p0.dat']] <__main__.AnalysisVicsek object at 0x000001F1AC746160>\n"
     ]
    }
   ],
   "source": [
    "\n",
    "VV_OBJ=[]\n",
    "parametersV=[parameters[k] for k in range(0,len(parameters),2)]\n",
    "for j in range(nroFilesV):\n",
    "    VV_OBJ.append(AnalysisVicsek(j,\n",
    "                                     VecInFiles[j],\n",
    "                                     'V',\n",
    "                                     parameters[j]))\n",
    "\n",
    "\n",
    "print(VecInFiles,VV_OBJ[0])"
   ]
  },
  {
   "cell_type": "code",
   "execution_count": 55,
   "id": "9d67bbf9",
   "metadata": {},
   "outputs": [
    {
     "name": "stdout",
     "output_type": "stream",
     "text": [
      "[0.1  0.14 0.18 0.21 0.25 0.29 0.33 0.37 0.4  0.44 0.48 0.52 0.56 0.6\n",
      " 0.63 0.67 0.71 0.75 0.79 0.82 0.86 0.9 ]\n"
     ]
    }
   ],
   "source": [
    "eta=VV_OBJ[0].vicsekNoise\n",
    "print(eta)"
   ]
  },
  {
   "cell_type": "code",
   "execution_count": 56,
   "id": "2d8ef5ac",
   "metadata": {},
   "outputs": [
    {
     "name": "stdout",
     "output_type": "stream",
     "text": [
      "fet\n"
     ]
    }
   ],
   "source": [
    "tACTVEC=[]\n",
    "ACTVEC=[]\n",
    "for j in range(nroFilesV):\n",
    "    tACTVEC.append(VV_OBJ[j].acorrTime)\n",
    "    ACTVEC.append(VV_OBJ[j].acorr)\n",
    "    \n",
    "print('fet')"
   ]
  },
  {
   "cell_type": "code",
   "execution_count": 31,
   "id": "8633a727",
   "metadata": {},
   "outputs": [
    {
     "ename": "SyntaxError",
     "evalue": "EOL while scanning string literal (Temp/ipykernel_15244/789996204.py, line 1)",
     "output_type": "error",
     "traceback": [
      "\u001b[1;36m  File \u001b[1;32m\"C:\\Users\\musta\\AppData\\Local\\Temp/ipykernel_15244/789996204.py\"\u001b[1;36m, line \u001b[1;32m1\u001b[0m\n\u001b[1;33m    'Vectorial - $N = %s$, $\\rho = %s$'%(N[k],rho[k]'\u001b[0m\n\u001b[1;37m                                                     ^\u001b[0m\n\u001b[1;31mSyntaxError\u001b[0m\u001b[1;31m:\u001b[0m EOL while scanning string literal\n"
     ]
    }
   ],
   "source": [
    "'Vectorial - $N = %s$, $\\rho = %s$'%(N[k],rho[k]'"
   ]
  },
  {
   "cell_type": "code",
   "execution_count": 32,
   "id": "71d0cb83",
   "metadata": {},
   "outputs": [
    {
     "name": "stdout",
     "output_type": "stream",
     "text": [
      "5\n"
     ]
    }
   ],
   "source": [
    "print(nroFilesV)"
   ]
  },
  {
   "cell_type": "code",
   "execution_count": 57,
   "id": "666f577b",
   "metadata": {},
   "outputs": [
    {
     "ename": "IndexError",
     "evalue": "list index out of range",
     "output_type": "error",
     "traceback": [
      "\u001b[1;31m---------------------------------------------------------------------------\u001b[0m",
      "\u001b[1;31mIndexError\u001b[0m                                Traceback (most recent call last)",
      "\u001b[1;32m~\\AppData\\Local\\Temp/ipykernel_15244/2285228958.py\u001b[0m in \u001b[0;36m<module>\u001b[1;34m\u001b[0m\n\u001b[0;32m      6\u001b[0m     \u001b[0mtituloAcorr\u001b[0m\u001b[1;33m=\u001b[0m\u001b[1;34mr'Vectorial - $N = %s$, $\\rho = %s$'\u001b[0m \u001b[1;33m%\u001b[0m\u001b[1;33m(\u001b[0m\u001b[0mN\u001b[0m\u001b[1;33m[\u001b[0m\u001b[0mk\u001b[0m\u001b[1;33m]\u001b[0m\u001b[1;33m,\u001b[0m\u001b[0mrho\u001b[0m\u001b[1;33m[\u001b[0m\u001b[0mk\u001b[0m\u001b[1;33m]\u001b[0m\u001b[1;33m)\u001b[0m\u001b[1;33m\u001b[0m\u001b[1;33m\u001b[0m\u001b[0m\n\u001b[0;32m      7\u001b[0m     graficoACT_V.append(\n\u001b[1;32m----> 8\u001b[1;33m             [[tACTVEC[k],ACTVEC[k][j],None,formatACT[j],labels[j]]\n\u001b[0m\u001b[0;32m      9\u001b[0m             for j in range(0,len(eta),3)]\n\u001b[0;32m     10\u001b[0m             )\n",
      "\u001b[1;32m~\\AppData\\Local\\Temp/ipykernel_15244/2285228958.py\u001b[0m in \u001b[0;36m<listcomp>\u001b[1;34m(.0)\u001b[0m\n\u001b[0;32m      6\u001b[0m     \u001b[0mtituloAcorr\u001b[0m\u001b[1;33m=\u001b[0m\u001b[1;34mr'Vectorial - $N = %s$, $\\rho = %s$'\u001b[0m \u001b[1;33m%\u001b[0m\u001b[1;33m(\u001b[0m\u001b[0mN\u001b[0m\u001b[1;33m[\u001b[0m\u001b[0mk\u001b[0m\u001b[1;33m]\u001b[0m\u001b[1;33m,\u001b[0m\u001b[0mrho\u001b[0m\u001b[1;33m[\u001b[0m\u001b[0mk\u001b[0m\u001b[1;33m]\u001b[0m\u001b[1;33m)\u001b[0m\u001b[1;33m\u001b[0m\u001b[1;33m\u001b[0m\u001b[0m\n\u001b[0;32m      7\u001b[0m     graficoACT_V.append(\n\u001b[1;32m----> 8\u001b[1;33m             [[tACTVEC[k],ACTVEC[k][j],None,formatACT[j],labels[j]]\n\u001b[0m\u001b[0;32m      9\u001b[0m             for j in range(0,len(eta),3)]\n\u001b[0;32m     10\u001b[0m             )\n",
      "\u001b[1;31mIndexError\u001b[0m: list index out of range"
     ]
    }
   ],
   "source": [
    "labels = [r'$\\eta = %s$' % eta[j] for j in range(len(eta))]\n",
    "formatACT=['k.-','r.-','m.-','c.-','b.-','g.-','y.-','gv-','kv-','rv-']\n",
    "\n",
    "graficoACT_V=[]\n",
    "for k in range(nroFilesV):\n",
    "    tituloAcorr=r'Vectorial - $N = %s$, $\\rho = %s$' %(N[k],rho[k])\n",
    "    graficoACT_V.append(\n",
    "            [[tACTVEC[k],ACTVEC[k][j],None,formatACT[j],labels[j]]\n",
    "            for j in range(0,len(eta),3)]\n",
    "            )\n",
    "    plt.figure(k)\n",
    "    Graficador(graficoACT_V[k],'$t [MCS]$','$Acorr$',tituloAcorr)"
   ]
  },
  {
   "cell_type": "code",
   "execution_count": null,
   "id": "7ad63695",
   "metadata": {},
   "outputs": [],
   "source": []
  },
  {
   "cell_type": "code",
   "execution_count": 58,
   "id": "e8f578aa",
   "metadata": {},
   "outputs": [],
   "source": [
    "def f(x,tau,b,y0): \n",
    "    return b*np.exp(-x/tau) + y0\n"
   ]
  },
  {
   "cell_type": "code",
   "execution_count": 59,
   "id": "52332952",
   "metadata": {
    "scrolled": false
   },
   "outputs": [
    {
     "name": "stdout",
     "output_type": "stream",
     "text": [
      "CAREFUL: FittingFunction must be like F(x,tau,A,y0,**p)\n"
     ]
    },
    {
     "name": "stderr",
     "output_type": "stream",
     "text": [
      "C:\\Users\\musta\\Anaconda2\\envs\\python3.8\\lib\\site-packages\\scipy\\optimize\\minpack.py:833: OptimizeWarning: Covariance of the parameters could not be estimated\n",
      "  warnings.warn('Covariance of the parameters could not be estimated',\n"
     ]
    },
    {
     "name": "stdout",
     "output_type": "stream",
     "text": [
      "[100, 100, 100, 100, 100, 100, 100, 100, 100, 100, 100, 100, 100, 100, 100, 100, 100, 100, 100, 100, 100, 100]\n",
      "CAREFUL: FittingFunction must be like F(x,tau,A,y0,**p)\n",
      "[100, 100, 100, 100, 100, 100, 100, 100, 100, 100, 100, 100, 100, 100, 100, 100, 100, 100, 100, 100, 100, 100]\n",
      "CAREFUL: FittingFunction must be like F(x,tau,A,y0,**p)\n",
      "[100, 100, 100, 100, 100, 100, 100, 100, 100, 100, 100, 100, 100, 100, 100, 100, 100, 100, 100, 100, 100, 100]\n",
      "CAREFUL: FittingFunction must be like F(x,tau,A,y0,**p)\n",
      "[100, 100, 100, 100, 100, 100, 100, 100, 100, 100, 100, 100, 100, 100, 100, 100, 100, 100, 100, 100, 100, 100]\n",
      "CAREFUL: FittingFunction must be like F(x,tau,A,y0,**p)\n",
      "[100, 100, 100, 100, 100, 100, 100, 100, 100, 100, 100, 100, 100, 100, 100, 100, 100, 100, 100, 100, 100, 100]\n"
     ]
    }
   ],
   "source": [
    "initGuessV=[[[MidoCada[k],ACTVEC[k][j][0],0] for j in range(len(eta))]for k in range(nroFilesV)]#semilla para el ajuste  \n",
    "# obtener el tiempo de eq. para cada curva de ACT\n",
    "tauEq_V=[VV_OBJ[k].get_tauEq(f) for k in range(nroFilesV)]"
   ]
  },
  {
   "cell_type": "code",
   "execution_count": 60,
   "id": "e31ba79c",
   "metadata": {},
   "outputs": [
    {
     "name": "stdout",
     "output_type": "stream",
     "text": [
      "22\n"
     ]
    }
   ],
   "source": [
    "print(len(eta))"
   ]
  },
  {
   "cell_type": "code",
   "execution_count": 61,
   "id": "cd8efe8e",
   "metadata": {},
   "outputs": [
    {
     "ename": "NameError",
     "evalue": "name 'VA_OBJ' is not defined",
     "output_type": "error",
     "traceback": [
      "\u001b[1;31m---------------------------------------------------------------------------\u001b[0m",
      "\u001b[1;31mNameError\u001b[0m                                 Traceback (most recent call last)",
      "\u001b[1;32m~\\AppData\\Local\\Temp/ipykernel_15244/1817616424.py\u001b[0m in \u001b[0;36m<module>\u001b[1;34m\u001b[0m\n\u001b[1;32m----> 1\u001b[1;33m \u001b[0mVA_OBJ\u001b[0m\u001b[1;33m[\u001b[0m\u001b[1;36m0\u001b[0m\u001b[1;33m]\u001b[0m\u001b[1;33m.\u001b[0m\u001b[0mget_OrderParam\u001b[0m\u001b[1;33m\u001b[0m\u001b[1;33m\u001b[0m\u001b[0m\n\u001b[0m",
      "\u001b[1;31mNameError\u001b[0m: name 'VA_OBJ' is not defined"
     ]
    }
   ],
   "source": [
    "VA_OBJ[0].get_OrderParam"
   ]
  },
  {
   "cell_type": "code",
   "execution_count": 62,
   "id": "00616cf9",
   "metadata": {},
   "outputs": [
    {
     "name": "stdout",
     "output_type": "stream",
     "text": [
      "[array([0.79140651, 0.78395928, 0.77530078, 0.76524429, 0.75259237,\n",
      "       0.7388958 , 0.72000149, 0.69884644, 0.67037444, 0.6226646 ,\n",
      "       0.28089445, 0.09788061, 0.08553615, 0.07228671, 0.06444941,\n",
      "       0.06265571, 0.05322863, 0.05811379, 0.05417174, 0.05199463,\n",
      "       0.04988853, 0.0544535 ]), array([0.7912831 , 0.78467099, 0.77575149, 0.76576176, 0.75365056,\n",
      "       0.73904796, 0.72265862, 0.69920755, 0.67170593, 0.62133447,\n",
      "       0.28768908, 0.11392303, 0.0793441 , 0.07814964, 0.06924259,\n",
      "       0.06692816, 0.06246816, 0.0561695 , 0.05811461, 0.05882966,\n",
      "       0.05475617, 0.05516201]), array([0.79166529, 0.78467048, 0.77641104, 0.76611061, 0.75506783,\n",
      "       0.7394636 , 0.72212555, 0.70199544, 0.67433149, 0.62640212,\n",
      "       0.31135982, 0.12993516, 0.09918311, 0.0928507 , 0.07966854,\n",
      "       0.0691004 , 0.06689528, 0.06853081, 0.06976324, 0.06589973,\n",
      "       0.06364557, 0.06495985]), array([0.79214893, 0.78549784, 0.77775996, 0.7673067 , 0.75569658,\n",
      "       0.74167206, 0.72473595, 0.70361523, 0.67577169, 0.62400672,\n",
      "       0.33946084, 0.15527754, 0.12271427, 0.10989185, 0.09889984,\n",
      "       0.09013451, 0.09030561, 0.08359146, 0.08250077, 0.07698948,\n",
      "       0.08282501, 0.07710598]), array([0.7926036 , 0.78562277, 0.77862156, 0.76876746, 0.75648418,\n",
      "       0.7440688 , 0.72488525, 0.70720711, 0.68021455, 0.63589647,\n",
      "       0.40171437, 0.21269411, 0.15063478, 0.13240704, 0.11918988,\n",
      "       0.11139742, 0.10467792, 0.10352734, 0.10140142, 0.09817731,\n",
      "       0.09959537, 0.10021903])]\n"
     ]
    }
   ],
   "source": [
    "PhiMean_V=[VV_OBJ[k].get_OP_Mean(tauEq_V[k]) for k in range(nroFilesV)]\n",
    "PhiVar_V=[VV_OBJ[k].get_OP_Var(tauEq_V[k]) for k in range(nroFilesV)]\n",
    "PhiCB_V=[VV_OBJ[k]._calc_X_BinderCumulant(tauEq_V[k]) for k in range(nroFilesV)]\n",
    "\n",
    "print(PhiMean_V)"
   ]
  },
  {
   "cell_type": "code",
   "execution_count": 63,
   "id": "106b7b3f",
   "metadata": {},
   "outputs": [
    {
     "data": {
      "image/png": "[encoded data removed]",
      "text/plain": [
       "<Figure size 432x288 with 1 Axes>"
      ]
     },
     "metadata": {
      "needs_background": "light"
     },
     "output_type": "display_data"
    },
    {
     "data": {
      "image/png": "[encoded data removed]",
      "text/plain": [
       "<Figure size 432x288 with 1 Axes>"
      ]
     },
     "metadata": {
      "needs_background": "light"
     },
     "output_type": "display_data"
    },
    {
     "data": {
      "image/png": "[encoded data removed]",
      "text/plain": [
       "<Figure size 432x288 with 1 Axes>"
      ]
     },
     "metadata": {
      "needs_background": "light"
     },
     "output_type": "display_data"
    }
   ],
   "source": [
    "StatsLabels_V=[r'$N=%s$'%N[k] for k in range(nroFilesV)]\n",
    "formatosV=['yv--','gv--','rv--','cv--','bv--']\n",
    "\n",
    "graficoOP_V=[[eta,PhiMean_V[k],None,formatosV[k],StatsLabels_V[k]] for k in range(nroFilesV)]\n",
    "graficoSuc_V=[[eta,PhiVar_V[k],None,formatosV[k],StatsLabels_V[k]]for k in range(nroFilesV)]\n",
    "graficosCB_V=[[eta[:],PhiCB_V[k][:],None,formatosV[k],StatsLabels_V[k]]for k in range(nroFilesV)]\n",
    "\n",
    "plt.figure(9)\n",
    "Graficador(graficoOP_V,r'$\\eta$',r'$v$','')\n",
    "plt.figure(12)\n",
    "Graficador(graficoSuc_V,'$\\eta$',r'$\\chi$','')\n",
    "plt.figure(13)\n",
    "Graficador(graficosCB_V,'$\\eta$','CumulanteBinder','')"
   ]
  },
  {
   "cell_type": "code",
   "execution_count": 66,
   "id": "c01393db",
   "metadata": {},
   "outputs": [
    {
     "name": "stdout",
     "output_type": "stream",
     "text": [
      "0.013250054075930308\n"
     ]
    }
   ],
   "source": [
    "PhiMean_V=[VV_OBJ[k].get_OP_Mean(tauEq_V[k]) for k in range(nroFilesV)]\n",
    "PhiVar_V=[VV_OBJ[k].get_OP_Var(tauEq_V[k]) for k in range(nroFilesV)]\n",
    "PhiCB_V=[VV_OBJ[k]._calc_X_BinderCumulant(tauEq_V[k]) for k in range(nroFilesV)]\n",
    "\n",
    "print(max(PhiVar_V[0]))"
   ]
  },
  {
   "cell_type": "code",
   "execution_count": 65,
   "id": "b55b65f2",
   "metadata": {},
   "outputs": [
    {
     "name": "stdout",
     "output_type": "stream",
     "text": [
      "[0.1  0.14 0.18 0.21 0.25 0.29 0.33 0.37 0.4  0.44 0.48 0.52 0.56 0.6\n",
      " 0.63 0.67 0.71 0.75 0.79 0.82 0.86 0.9 ]\n"
     ]
    }
   ],
   "source": [
    "print(eta)"
   ]
  },
  {
   "cell_type": "code",
   "execution_count": 74,
   "id": "b3974229",
   "metadata": {},
   "outputs": [
    {
     "name": "stdout",
     "output_type": "stream",
     "text": [
      "[0.28035838015750003, 0.28826816911325, 0.311932751781, 0.3397602091695, 0.40154862318300005] [0.013250054075930308, 0.01790317890756808, 0.017547174149475063, 0.019062754848389617, 0.021367012505872154]\n"
     ]
    },
    {
     "data": {
      "image/png": "[encoded data removed]",
      "text/plain": [
       "<Figure size 432x288 with 1 Axes>"
      ]
     },
     "metadata": {
      "needs_background": "light"
     },
     "output_type": "display_data"
    }
   ],
   "source": [
    "L=[15,14,12,10,8]\n",
    "\n",
    "maxsv=[]\n",
    "maxsus=[]\n",
    "for k in range(nroFilesV):\n",
    "    maxsv.append(PhiMean_V[k][10])\n",
    "    maxsus.append(max(PhiVar_V[k]))\n",
    "    \n",
    "\n",
    "\n",
    "print(maxsv,maxsus)\n",
    "\n",
    "plt.plot(np.log(L),np.log(maxsv), 'o')\n",
    "plt.show()"
   ]
  },
  {
   "cell_type": "code",
   "execution_count": 75,
   "id": "4633d195",
   "metadata": {},
   "outputs": [
    {
     "data": {
      "image/png": "[encoded data removed]",
      "text/plain": [
       "<Figure size 432x288 with 1 Axes>"
      ]
     },
     "metadata": {
      "needs_background": "light"
     },
     "output_type": "display_data"
    },
    {
     "name": "stdout",
     "output_type": "stream",
     "text": [
      "slope is -0.5623948859502426\n"
     ]
    }
   ],
   "source": [
    "plt.plot(np.log(L),np.log(maxsv), 'o')\n",
    "m,b=np.polyfit(np.log(L),np.log(maxsv), 1)\n",
    "plt.plot(np.log(L), m*np.log(L)+b)\n",
    "plt.show()\n",
    "\n",
    "print('slope is', m)"
   ]
  },
  {
   "cell_type": "code",
   "execution_count": 76,
   "id": "4ff4b05d",
   "metadata": {},
   "outputs": [
    {
     "data": {
      "image/png": "[encoded data removed]",
      "text/plain": [
       "<Figure size 432x288 with 1 Axes>"
      ]
     },
     "metadata": {
      "needs_background": "light"
     },
     "output_type": "display_data"
    },
    {
     "name": "stdout",
     "output_type": "stream",
     "text": [
      "slope is -0.5860626186870009\n"
     ]
    }
   ],
   "source": [
    "plt.plot(np.log(L),np.log(maxsus), 'o')\n",
    "m,b=np.polyfit(np.log(L),np.log(maxsus), 1)\n",
    "plt.plot(np.log(L), m*np.log(L)+b)\n",
    "plt.show()\n",
    "\n",
    "print('slope is', m)"
   ]
  },
  {
   "cell_type": "code",
   "execution_count": null,
   "id": "f0700463",
   "metadata": {},
   "outputs": [],
   "source": []
  }
 ],
 "metadata": {
  "kernelspec": {
   "display_name": "python3.8",
   "language": "python",
   "name": "python3.8"
  },
  "language_info": {
   "codemirror_mode": {
    "name": "ipython",
    "version": 3
   },
   "file_extension": ".py",
   "mimetype": "text/x-python",
   "name": "python",
   "nbconvert_exporter": "python",
   "pygments_lexer": "ipython3",
   "version": "3.8.5"
  }
 },
 "nbformat": 4,
 "nbformat_minor": 5
}
